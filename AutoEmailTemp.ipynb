{
 "cells": [
  {
   "cell_type": "code",
   "execution_count": 11,
   "id": "8fd18d29-3162-4b29-baca-c71af18cc347",
   "metadata": {},
   "outputs": [],
   "source": [
    "from email.mime.multipart import MIMEMultipart\n",
    "from email.mime.text import MIMEText\n",
    "from datetime import datetime\n",
    "import smtplib\n"
   ]
  },
  {
   "cell_type": "code",
   "execution_count": 13,
   "id": "ec245244-7673-4e78-94c9-ef09729382ea",
   "metadata": {},
   "outputs": [],
   "source": [
    "#definines email\n",
    "def send_email(smtp_server, smtp_port, smtp_user, smtp_pass, recipient_email, sender_email, subject, body):\n",
    "    # Create the email message\n",
    "    msg = MIMEMultipart()\n",
    "    msg['From'] = sender_email\n",
    "    msg['To'] = recipient_email\n",
    "    msg['Subject'] = subject\n",
    "    msg.attach(MIMEText(body, 'plain'))"
   ]
  },
  {
   "cell_type": "code",
   "execution_count": 15,
   "id": "2c056060-bae0-461d-9037-18c78909af5f",
   "metadata": {},
   "outputs": [
    {
     "ename": "IndentationError",
     "evalue": "expected an indented block after 'if' statement on line 9 (1942573396.py, line 11)",
     "output_type": "error",
     "traceback": [
      "\u001b[1;36m  Cell \u001b[1;32mIn[15], line 11\u001b[1;36m\u001b[0m\n\u001b[1;33m    smtp_server = \"smtp.example.com\"\u001b[0m\n\u001b[1;37m    ^\u001b[0m\n\u001b[1;31mIndentationError\u001b[0m\u001b[1;31m:\u001b[0m expected an indented block after 'if' statement on line 9\n"
     ]
    }
   ],
   "source": [
    "    # Connect to the SMTP server and send the email\n",
    "    server = smtplib.SMTP(smtp_server, smtp_port)\n",
    "    server.starttls()\n",
    "    server.login(smtp_user, smtp_pass)\n",
    "    text = msg.as_string()\n",
    "    server.sendmail(sender_email, recipient_email, text)\n",
    "    server.quit()\n",
    "\n",
    "if __name__ == \"__main__\":\n",
    "    # SMTP server configuration\n",
    "    smtp_server = \"smtp.example.com\"\n",
    "    smtp_port = 587\n",
    "    smtp_user = \"youremail@example.com\"\n",
    "    smtp_pass = \"yourpassword\"\n"
   ]
  },
  {
   "cell_type": "code",
   "execution_count": null,
   "id": "62d0d988-203b-49be-acde-4251bf73afcc",
   "metadata": {},
   "outputs": [],
   "source": [
    " # Email details\n",
    "    recipient_email = \"recipient@example.com\"\n",
    "    sender_email = \"youremail@example.com\"\n",
    "    subject = \"Upcoming Event\"\n"
   ]
  },
  {
   "cell_type": "code",
   "execution_count": null,
   "id": "9047fc5c-c41a-4719-8bf9-3bf14ddec364",
   "metadata": {},
   "outputs": [],
   "source": [
    "    # Email body template\n",
    "    body_template = \"\"\"Dear {RecipientName},\n",
    "\n",
    "I hope this email finds you well. I am writing to inform you about the upcoming event.\n",
    "\n",
    "Sincerely,\n",
    "{SenderName}\n",
    "{Date}\"\"\"\n"
   ]
  },
  {
   "cell_type": "code",
   "execution_count": null,
   "id": "f67927bb-991f-4b8c-a1e4-e7f3caba943a",
   "metadata": {},
   "outputs": [],
   "source": [
    "    # Personalization\n",
    "    recipient_name = \"John Doe\"\n",
    "    sender_name = \"Jane Smith\"\n",
    "    date = datetime.now().strftime(\"%Y-%m-%d\")\n",
    "\n",
    "    # Format the email body\n",
    "    body = body_template.format(RecipientName=recipient_name, SenderName=sender_name, Date=date)\n",
    "\n",
    "    # Send the email\n",
    "    send_email(smtp_server, smtp_port, smtp_user, smtp_pass, recipient_email, sender_email, subject, body)\n",
    "    print(\"Email sent successfully!\")\n"
   ]
  }
 ],
 "metadata": {
  "kernelspec": {
   "display_name": "Python 3 (ipykernel)",
   "language": "python",
   "name": "python3"
  },
  "language_info": {
   "codemirror_mode": {
    "name": "ipython",
    "version": 3
   },
   "file_extension": ".py",
   "mimetype": "text/x-python",
   "name": "python",
   "nbconvert_exporter": "python",
   "pygments_lexer": "ipython3",
   "version": "3.12.3"
  }
 },
 "nbformat": 4,
 "nbformat_minor": 5
}
